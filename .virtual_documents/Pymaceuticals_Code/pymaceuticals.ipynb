#Pymaceuticals Inc.

### Analysis


# Dependencies and Setup
import matplotlib.pyplot as plt
import pandas as pd
import scipy.stats as st

# Study data files
mouse_info = "Mouse_metadata.csv"
tumor_study = "Study_results.csv"

# Read the mouse data and the study results
mouse_info_df = pd.read_csv(mouse_info)
tumor_study_df = pd.read_csv(tumor_study)

# Combine the data into a single DataFrame
SSC_study_df = pd.merge(tumor_study_df,mouse_info_df, how="left", on=["Mouse ID", "Mouse ID"])

# Display the data table for preview
SSC_study_df.head()


#Total Mice
Unique_Mouse_ID = SSC_study_df['Mouse ID'].nunique()
print(Unique_Mouse_ID)


#Identify Duplicate Data
duplicates = SSC_study_df.duplicated(subset=['Mouse ID', 'Timepoint'], keep=False)
Timepoint_duplicates = SSC_study_df.loc[duplicates]

dup_miceID = Timepoint_duplicates['Mouse ID'].unique()
dup_miceID


##Identify Duplicate Data_Bonus
allDup_miceID = SSC_study_df[SSC_study_df['Mouse ID'].isin(dup_miceID)]
allDup_miceID


clean_SSC_df = SSC_study_df.drop(SSC_study_df[SSC_study_df['Mouse ID'] == "g989"].index)
clean_SSC_df





#Total Mice
clean_Unique_Mouse_ID = clean_SSC_df['Mouse ID'].nunique()
print(clean_Unique_Mouse_ID)


#Summary Statistics


avg_tumor =  clean_SSC_df.groupby('Drug Regimen')['Tumor Volume (mm3)'].mean()
avg_tumor


med_tumor =  clean_SSC_df.groupby('Drug Regimen')['Tumor Volume (mm3)'].median()
med_tumor


var_tumor =  clean_SSC_df.groupby('Drug Regimen')['Tumor Volume (mm3)'].var()
var_tumor


stdev_tumor =  clean_SSC_df.groupby('Drug Regimen')['Tumor Volume (mm3)'].std()
stdev_tumor


sem_tumor =  clean_SSC_df.groupby('Drug Regimen')['Tumor Volume (mm3)'].sem()
sem_tumor


drug_reg = clean_SSC_df['Drug Regimen'].unique()
drug_reg



sumTumor_df = pd.DataFrame ({'Mean Tumor Volume': avg_tumor,'Median Tumor Volume': med_tumor,
               'Tumor Volume Variance': var_tumor,'Tumor Volume Std. Dev.': stdev_tumor,
               'Tumor Volume Std. Err.': sem_tumor
              })
sumTumor_df


#Bar and Pie Charts


drug_reg_count = clean_SSC_df.groupby('Drug Regimen')['Timepoint'].count()
drug_reg_count_df = pd.DataFrame(drug_reg_count)
drug_reg_count_df = drug_reg_count_df.sort_values(by='Timepoint', ascending=False)
drug_reg_count_df


drug_reg_count_df.plot(y='Timepoint', kind='bar', ylabel='# of Observed Mouse Timepoint')


drug_regimen = drug_reg_count_df.index
timepoint_count = drug_reg_count_df['Timepoint']

plt.bar(drug_regimen, timepoint_count, color="b", align="center")
plt.xlabel('Drug Regimen')
plt.ylabel('# of Observed Mouse Timepoint')
plt.title('Drug Regimen')
plt.xticks(rotation=45)
plt.show()


mouse_gender = clean_SSC_df['Sex'].value_counts()
mouse_gender


mouse_gender.plot(kind='pie',autopct='%1.1f%%',colors=["blue","red"])


# Labels for the sections of our pie chart
labels = ["Male", "Female"]

# The values of each section of the pie chart
gender = mouse_gender.values

# The colors of each section of the pie chart
colors = ["blue", "red"]

# Tells matplotlib to separate the "Humans" section from the others
explode = (0, 0)


# Creates the pie chart based upon the values above
# Automatically finds the percentages of each part of the pie chart
plt.pie(gender, explode=explode, labels=labels, colors=colors,
        autopct="%1.1f%%", shadow=True, startangle=140)
plt.show()





#Quartiles, Outliers and Boxplots


endpoint = clean_SSC_df.groupby('Mouse ID')['Timepoint'].last()
print(endpoint)
final_tumor_vol = clean_SSC_df.groupby('Mouse ID')['Tumor Volume (mm3)'].last()
final_tumor_vol_df = pd.DataFrame({'Endpoint': endpoint, 'Final Tumor Volume (mm3)':final_tumor_vol })
final_tumor_vol_df


final_clean_SSC_df = pd.merge(clean_SSC_df, final_tumor_vol_df, how="left", on=["Mouse ID", "Mouse ID"])

filter_column = ['Drug Regimen','Mouse ID', 'Endpoint', 'Final Tumor Volume (mm3)']
filter_drugs = ['Capomulin', 'Ramicane', 'Infubinol','Ceftamin']

final_clean_SSC_df = final_clean_SSC_df.loc[final_clean_SSC_df['Drug Regimen'].isin(filter_drugs),filter_column]

final_clean_SSC_df


treatments = ['Capomulin', 'Ramicane', 'Infubinol','Ceftamin']
ctumor_vol = []
itumor_vol = []
rtumor_vol = []
cetumor_vol = []

for treatment in treatments:
    if treatment == 'Capomulin':
        ctumor_vol.append(final_clean_SSC_df.loc[final_clean_SSC_df['Drug Regimen'] == treatment, 'Final Tumor Volume (mm3)'].tolist())
        
        cquartiles = ctumor_vol.quantile([0.25,0.5,0.75])
        clowerq = cquartiles.loc[0.25]
        cupperq = cquartiles.loc[0.75]
        ciqr = cupperq-clowerq

        clower_bound = clowerq - 1.5*ciqr
        cupper_bound = cupperq + 1.5*ciqr

ctumor_vol





tumor_vol_df = pd.DataFrame.from_dict(tumor_vol, orient='index')
tumor_vol_df


included_drugs = 'Capomulin', 'Ramicane', 'Infubinol', 'Ceftamin'
edited_tumor_vol_df = tumor_vol_df.loc[included_drugs,:]
edited_tumor_vol_df = edited_tumor_vol_df.transpose()
edited_tumor_vol_df


quartiles = edited_tumor_vol_df.quantile([0.25,0.5,0.75])
lowerq = quartiles.loc[0.25]
upperq = quartiles.loc[0.75]
iqr = upperq-lowerq
print(iqr)

lower_bound = lowerq - 1.5*iqr
upper_bound = upperq + 1.5*iqr

print(lower_bound)
print(upper_bound)




outliers = {}
for drug in edited_tumor_vol_df.columns:
    drug_outliers = edited_tumor_vol_df[(edited_tumor_vol_df[drug] < lower_bound[drug])|(edited_tumor_vol_df[drug] > lower_bound[drug])]
        
    if not outliers.empty:
        outliers_o[drug] = outliers

outliers


















