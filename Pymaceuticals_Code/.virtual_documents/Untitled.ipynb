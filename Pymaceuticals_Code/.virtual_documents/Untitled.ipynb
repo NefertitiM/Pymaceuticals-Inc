# Pymaceuticals Inc.

### Analysis


# Dependencies and Setup
import matplotlib.pyplot as plt
import pandas as pd
import scipy.stats as st

# Study data files
mouse_info = "Mouse_metadata.csv"
tumor_study = "Study_results.csv"

# Read the mouse data and the study results
mouse_info_df = pd.read_csv(mouse_info)
tumor_study_df = pd.read_csv(tumor_study)

# Combine the data into a single DataFrame
SSC_study_df = pd.merge(mouse_info_df, tumor_study_df, how="left", on=["Mouse ID", "Mouse ID"])

# Display the data table for preview
SSC_study_df.head()


#Total Mice
Unique_Mouse_ID = SSC_study_df['Mouse ID'].nunique()
print(Unique_Mouse_ID)


duplicates = SSC_study_df.duplicated(subset=['Mouse ID', 'Timepoint'], keep=False)
Timepoint_duplicates = SSC_study_df.loc[duplicates]

dup_miceID = Timepoint_duplicates['Mouse ID'].unique()
dup_miceID


Timepoint_duplicates


clean_SSC_df = SSC_study_df.drop(SSC_study_df[SSC_study_df['Mouse ID'] == "g989"].index)
clean_SSC_df


#Total Mice
clean_Unique_Mouse_ID = clean_SSC_df['Mouse ID'].nunique()
print(clean_Unique_Mouse_ID)


#Summary Statistics


avg_tumor =  clean_SSC_df.groupby('Drug Regimen')['Tumor Volume (mm3)'].mean()
avg_tumor


med_tumor =  clean_SSC_df.groupby('Drug Regimen')['Tumor Volume (mm3)'].median()
med_tumor


var_tumor =  clean_SSC_df.groupby('Drug Regimen')['Tumor Volume (mm3)'].var()
var_tumor


stdev_tumor =  clean_SSC_df.groupby('Drug Regimen')['Tumor Volume (mm3)'].std()
stdev_tumor


sem_tumor =  clean_SSC_df.groupby('Drug Regimen')['Tumor Volume (mm3)'].sem()
sem_tumor


drug_reg = clean_SSC_df['Drug Regimen'].unique()
drug_reg



sumTumor_df = pd.DataFrame ({'Mean Tumor Volume': avg_tumor,'Median Tumor Volume': med_tumor,
               'Tumor Volume Variance': var_tumor,'Tumor Volume Std. Dev.': stdev_tumor,
               'Tumor Volume Std. Err.': sem_tumor
              })
sumTumor_df


#Bar and Pie Charts


drug_reg_count = clean_SSC_df.groupby('Drug Regimen')['Timepoint'].count()
drug_reg_count_df = pd.DataFrame(drug_reg_count)
drug_reg_count_df


drug_reg_count_df.plot(y='Timepoint', kind='bar', ylabel='# of Observed Mouse Timepoint')









